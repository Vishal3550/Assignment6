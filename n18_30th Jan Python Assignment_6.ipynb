{
 "cells": [
  {
   "cell_type": "code",
   "execution_count": 8,
   "id": "5584fcd6-dbce-4277-8180-50e2981166c0",
   "metadata": {},
   "outputs": [
    {
     "name": "stdin",
     "output_type": "stream",
     "text": [
      "enter the marks: 88\n"
     ]
    },
    {
     "name": "stdout",
     "output_type": "stream",
     "text": [
      "you got B grade\n"
     ]
    }
   ],
   "source": [
    "# 1. Write a program to accept percentage from the user and display the grade according to the following \n",
    "# criteria: \n",
    "\n",
    "# Marks           Grade \n",
    "# >90               A \n",
    "# >80 and <=90      B \n",
    "# >=60 and <=80     C \n",
    "# below 60          D \n",
    "\n",
    "percentage = int(input(\"enter the marks:\"))\n",
    "if percentage>90:\n",
    "    print(\"you got A grade\")\n",
    "elif percentage>80 & percentage<=90:\n",
    "    print(\"you got B grade\")\n",
    "elif percentage>=60 & percentage<=80:\n",
    "    print(\"you got C grade\")\n",
    "else:\n",
    "    print(\"you got D grade\")\n"
   ]
  },
  {
   "cell_type": "code",
   "execution_count": 9,
   "id": "6cc5fa54-ca3d-4298-a829-f10dbecf844f",
   "metadata": {},
   "outputs": [
    {
     "name": "stdin",
     "output_type": "stream",
     "text": [
      "enter the price of bike: 20000\n"
     ]
    },
    {
     "name": "stdout",
     "output_type": "stream",
     "text": [
      "tax to be paid 2000.0\n"
     ]
    }
   ],
   "source": [
    "# 2. Write a program to accept the cost price of a bike and display the road tax to be paid according to the \n",
    "# following criteria: \n",
    "\n",
    "# Tax          Cost Price(in Rs) \n",
    "# 15%          >100000\n",
    "# 10%          50000 and <= 100000 \n",
    "# 5%           <= 50000 \n",
    "\n",
    "tax = 0 \n",
    "price = int(input(\"enter the price of bike:\"))\n",
    "if price>100000:\n",
    "    tax = 15/100*price\n",
    "elif price>50000 & price<= 100000:\n",
    "    tax = 10/100*price\n",
    "else:\n",
    "    tax = 5/100*price\n",
    "print(\"tax to be paid\",tax)"
   ]
  },
  {
   "cell_type": "code",
   "execution_count": 10,
   "id": "395f91f8-763f-4c76-a6f5-4964dbf2f25a",
   "metadata": {},
   "outputs": [
    {
     "name": "stdin",
     "output_type": "stream",
     "text": [
      "enter name of the city jaipur\n"
     ]
    },
    {
     "name": "stdout",
     "output_type": "stream",
     "text": [
      "monument name is : jal mahal\n"
     ]
    }
   ],
   "source": [
    "# 3. Accept any city from the user and display monuments of that city. \n",
    "\n",
    "# City          Monument \n",
    "# Delhi         Red Fort \n",
    "# Agra          Taj Mahal\n",
    "# Jaipur        Jal Mahal \n",
    " \n",
    "\n",
    "city = input(\"enter name of the city\")\n",
    "if city.lower()==\"delhi\":\n",
    "    print(\"monument name is : red fort\")\n",
    "elif city.lower()==\"agra\":\n",
    "    print(\"monument name is : taj mahal\")\n",
    "elif city.lower()==\"jaipur\":\n",
    "    print(\"monument name is : jal mahal\")\n",
    "else:\n",
    "    print(\"enter the correct name of city\")"
   ]
  },
  {
   "cell_type": "code",
   "execution_count": 11,
   "id": "10c0582d-1035-40ad-baaa-17198c3ec24b",
   "metadata": {},
   "outputs": [
    {
     "name": "stdout",
     "output_type": "stream",
     "text": [
      "Total iteration required 3\n"
     ]
    }
   ],
   "source": [
    "# 4. Check how many times a given number can be divided by 3 before it is less than or equal to 10. \n",
    "\n",
    "count = 0\n",
    "number = 180\n",
    "while number > 10:\n",
    "    number = number / 3\n",
    "    count = count + 1\n",
    "print('Total iteration required', count)"
   ]
  },
  {
   "cell_type": "code",
   "execution_count": 12,
   "id": "621b8385-e8de-4093-928c-54ff8a1665cb",
   "metadata": {},
   "outputs": [
    {
     "name": "stdout",
     "output_type": "stream",
     "text": [
      "1\n",
      "2\n",
      "3\n",
      "4\n",
      "5\n"
     ]
    }
   ],
   "source": [
    "# 5. Why and When to Use while Loop in Python give a detailed description with example \n",
    "\n",
    "# Answer:-Python while loop is used to run a block code until a certain condition is met. Here, A while loop evaluates the condition.\n",
    "#         If the condition evaluates to True , the code inside the while loop is executed.\n",
    "i = 1\n",
    "n = 5\n",
    "while i <= n:\n",
    "    print(i)\n",
    "    i = i + 1"
   ]
  },
  {
   "cell_type": "code",
   "execution_count": 13,
   "id": "3c26c81a-7447-406a-9467-f83f7a8b7b4b",
   "metadata": {},
   "outputs": [
    {
     "name": "stdin",
     "output_type": "stream",
     "text": [
      "Enter number of rows :  5\n"
     ]
    },
    {
     "name": "stdout",
     "output_type": "stream",
     "text": [
      "* \n",
      "* * \n",
      "* * * \n",
      "* * * * \n",
      "* * * * * \n"
     ]
    }
   ],
   "source": [
    "# 6. Use nested while loop to print 3 different pattern. \n",
    "\n",
    "n = int(input('Enter number of rows : '))\n",
    " \n",
    "i = 1\n",
    "while i <= n :\n",
    "    j = 1\n",
    "    while j <= i:\n",
    "        print(\"*\", end = \" \")\n",
    "        j += 1\n",
    "    print()\n",
    "    i += 1"
   ]
  },
  {
   "cell_type": "code",
   "execution_count": 14,
   "id": "d48b8ff9-277b-4772-93bf-f6260354d04b",
   "metadata": {},
   "outputs": [
    {
     "name": "stdin",
     "output_type": "stream",
     "text": [
      "Enter number of rows :  5\n"
     ]
    },
    {
     "name": "stdout",
     "output_type": "stream",
     "text": [
      "* * * * * \n",
      "* * * * \n",
      "* * * \n",
      "* * \n",
      "* \n"
     ]
    }
   ],
   "source": [
    "n = int(input('Enter number of rows : '))\n",
    " \n",
    "i = 1\n",
    "while i <= n :\n",
    "    j = n\n",
    "    while j >= i:\n",
    "        print(\"*\", end = \" \")\n",
    "        j -= 1\n",
    "    print()\n",
    "    i += 1"
   ]
  },
  {
   "cell_type": "code",
   "execution_count": 15,
   "id": "7a56ceab-34c4-411d-965a-6083f12bda9d",
   "metadata": {},
   "outputs": [
    {
     "name": "stdin",
     "output_type": "stream",
     "text": [
      "Enter number of rows :  5\n"
     ]
    },
    {
     "name": "stdout",
     "output_type": "stream",
     "text": [
      "  1 \n",
      "  2   3 \n",
      "  4   5   6 \n",
      "  7   8   9  10 \n",
      " 11  12  13  14  15 \n"
     ]
    }
   ],
   "source": [
    "n = int(input('Enter number of rows : '))\n",
    " \n",
    "k = 1\n",
    "i = 1\n",
    "while i <= n :\n",
    "    j = 1\n",
    "    while j <= i:\n",
    "        print(\"{:3d}\".format(k), end = \" \")\n",
    "        j += 1\n",
    "        k += 1\n",
    "    print()\n",
    "    i += 1"
   ]
  },
  {
   "cell_type": "code",
   "execution_count": 16,
   "id": "d4f91766-5d36-47af-9849-858053635860",
   "metadata": {},
   "outputs": [
    {
     "name": "stdout",
     "output_type": "stream",
     "text": [
      "10\n",
      "9\n",
      "8\n",
      "7\n",
      "6\n",
      "5\n",
      "4\n",
      "3\n",
      "2\n",
      "1\n"
     ]
    }
   ],
   "source": [
    "# 7. Reverse a while loop to display numbers from 10 to 1.\n",
    "i = 10\n",
    "while i > 0:\n",
    "    print(i)\n",
    "    i = i - 1"
   ]
  },
  {
   "cell_type": "code",
   "execution_count": 17,
   "id": "24d405dc-5e03-4092-81b0-4747b752cc9f",
   "metadata": {},
   "outputs": [
    {
     "name": "stdout",
     "output_type": "stream",
     "text": [
      "10\n",
      "9\n",
      "8\n",
      "7\n",
      "6\n",
      "5\n",
      "4\n",
      "3\n",
      "2\n",
      "1\n"
     ]
    }
   ],
   "source": [
    "# 8. Reverse a while loop to display numbers from 10 to 1 \n",
    "\n",
    "i = 10\n",
    "while i > 0:\n",
    "    print(i)\n",
    "    i = i - 1"
   ]
  },
  {
   "cell_type": "code",
   "execution_count": null,
   "id": "b561df1e-2a5d-4206-b6af-35d235c69ad2",
   "metadata": {},
   "outputs": [],
   "source": []
  }
 ],
 "metadata": {
  "kernelspec": {
   "display_name": "Python 3 (ipykernel)",
   "language": "python",
   "name": "python3"
  },
  "language_info": {
   "codemirror_mode": {
    "name": "ipython",
    "version": 3
   },
   "file_extension": ".py",
   "mimetype": "text/x-python",
   "name": "python",
   "nbconvert_exporter": "python",
   "pygments_lexer": "ipython3",
   "version": "3.10.8"
  }
 },
 "nbformat": 4,
 "nbformat_minor": 5
}
